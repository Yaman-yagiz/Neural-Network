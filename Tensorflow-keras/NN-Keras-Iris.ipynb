{
 "cells": [
  {
   "cell_type": "code",
   "execution_count": 44,
   "id": "edb88a73",
   "metadata": {},
   "outputs": [],
   "source": [
    "from sklearn.datasets import load_iris\n",
    "import pandas as pd\n",
    "import numpy as np\n",
    "import keras\n",
    "import tensorflow as tf\n",
    "from tensorflow import keras\n",
    "from tensorflow.keras import layers\n",
    "import graphviz"
   ]
  },
  {
   "cell_type": "code",
   "execution_count": 45,
   "id": "1a9c3b61",
   "metadata": {},
   "outputs": [],
   "source": [
    "iris=load_iris()"
   ]
  },
  {
   "cell_type": "code",
   "execution_count": 46,
   "id": "39d246a0",
   "metadata": {},
   "outputs": [
    {
     "data": {
      "text/plain": [
       "dict_keys(['data', 'target', 'frame', 'target_names', 'DESCR', 'feature_names', 'filename'])"
      ]
     },
     "execution_count": 46,
     "metadata": {},
     "output_type": "execute_result"
    }
   ],
   "source": [
    "iris.keys()"
   ]
  },
  {
   "cell_type": "code",
   "execution_count": 47,
   "id": "01fca3dd",
   "metadata": {},
   "outputs": [],
   "source": [
    "X=pd.DataFrame(data=iris.data,columns=iris.feature_names)"
   ]
  },
  {
   "cell_type": "code",
   "execution_count": 48,
   "id": "1149440f",
   "metadata": {},
   "outputs": [
    {
     "data": {
      "text/html": [
       "<div>\n",
       "<style scoped>\n",
       "    .dataframe tbody tr th:only-of-type {\n",
       "        vertical-align: middle;\n",
       "    }\n",
       "\n",
       "    .dataframe tbody tr th {\n",
       "        vertical-align: top;\n",
       "    }\n",
       "\n",
       "    .dataframe thead th {\n",
       "        text-align: right;\n",
       "    }\n",
       "</style>\n",
       "<table border=\"1\" class=\"dataframe\">\n",
       "  <thead>\n",
       "    <tr style=\"text-align: right;\">\n",
       "      <th></th>\n",
       "      <th>sepal length (cm)</th>\n",
       "      <th>sepal width (cm)</th>\n",
       "      <th>petal length (cm)</th>\n",
       "      <th>petal width (cm)</th>\n",
       "    </tr>\n",
       "  </thead>\n",
       "  <tbody>\n",
       "    <tr>\n",
       "      <th>0</th>\n",
       "      <td>5.1</td>\n",
       "      <td>3.5</td>\n",
       "      <td>1.4</td>\n",
       "      <td>0.2</td>\n",
       "    </tr>\n",
       "    <tr>\n",
       "      <th>1</th>\n",
       "      <td>4.9</td>\n",
       "      <td>3.0</td>\n",
       "      <td>1.4</td>\n",
       "      <td>0.2</td>\n",
       "    </tr>\n",
       "    <tr>\n",
       "      <th>2</th>\n",
       "      <td>4.7</td>\n",
       "      <td>3.2</td>\n",
       "      <td>1.3</td>\n",
       "      <td>0.2</td>\n",
       "    </tr>\n",
       "    <tr>\n",
       "      <th>3</th>\n",
       "      <td>4.6</td>\n",
       "      <td>3.1</td>\n",
       "      <td>1.5</td>\n",
       "      <td>0.2</td>\n",
       "    </tr>\n",
       "    <tr>\n",
       "      <th>4</th>\n",
       "      <td>5.0</td>\n",
       "      <td>3.6</td>\n",
       "      <td>1.4</td>\n",
       "      <td>0.2</td>\n",
       "    </tr>\n",
       "  </tbody>\n",
       "</table>\n",
       "</div>"
      ],
      "text/plain": [
       "   sepal length (cm)  sepal width (cm)  petal length (cm)  petal width (cm)\n",
       "0                5.1               3.5                1.4               0.2\n",
       "1                4.9               3.0                1.4               0.2\n",
       "2                4.7               3.2                1.3               0.2\n",
       "3                4.6               3.1                1.5               0.2\n",
       "4                5.0               3.6                1.4               0.2"
      ]
     },
     "execution_count": 48,
     "metadata": {},
     "output_type": "execute_result"
    }
   ],
   "source": [
    "X.head()"
   ]
  },
  {
   "cell_type": "code",
   "execution_count": 49,
   "id": "66a3986b",
   "metadata": {},
   "outputs": [],
   "source": [
    "y=pd.DataFrame(data=iris.target,columns=['Type'])"
   ]
  },
  {
   "cell_type": "code",
   "execution_count": 50,
   "id": "7eb66557",
   "metadata": {},
   "outputs": [
    {
     "data": {
      "text/html": [
       "<div>\n",
       "<style scoped>\n",
       "    .dataframe tbody tr th:only-of-type {\n",
       "        vertical-align: middle;\n",
       "    }\n",
       "\n",
       "    .dataframe tbody tr th {\n",
       "        vertical-align: top;\n",
       "    }\n",
       "\n",
       "    .dataframe thead th {\n",
       "        text-align: right;\n",
       "    }\n",
       "</style>\n",
       "<table border=\"1\" class=\"dataframe\">\n",
       "  <thead>\n",
       "    <tr style=\"text-align: right;\">\n",
       "      <th></th>\n",
       "      <th>Type</th>\n",
       "    </tr>\n",
       "  </thead>\n",
       "  <tbody>\n",
       "    <tr>\n",
       "      <th>0</th>\n",
       "      <td>0</td>\n",
       "    </tr>\n",
       "    <tr>\n",
       "      <th>1</th>\n",
       "      <td>0</td>\n",
       "    </tr>\n",
       "    <tr>\n",
       "      <th>2</th>\n",
       "      <td>0</td>\n",
       "    </tr>\n",
       "    <tr>\n",
       "      <th>3</th>\n",
       "      <td>0</td>\n",
       "    </tr>\n",
       "    <tr>\n",
       "      <th>4</th>\n",
       "      <td>0</td>\n",
       "    </tr>\n",
       "  </tbody>\n",
       "</table>\n",
       "</div>"
      ],
      "text/plain": [
       "   Type\n",
       "0     0\n",
       "1     0\n",
       "2     0\n",
       "3     0\n",
       "4     0"
      ]
     },
     "execution_count": 50,
     "metadata": {},
     "output_type": "execute_result"
    }
   ],
   "source": [
    "y.head()"
   ]
  },
  {
   "cell_type": "code",
   "execution_count": 51,
   "id": "c9f71af0",
   "metadata": {},
   "outputs": [
    {
     "data": {
      "text/plain": [
       "0    50\n",
       "1    50\n",
       "2    50\n",
       "Name: Type, dtype: int64"
      ]
     },
     "execution_count": 51,
     "metadata": {},
     "output_type": "execute_result"
    }
   ],
   "source": [
    "y.Type.value_counts()"
   ]
  },
  {
   "cell_type": "code",
   "execution_count": 52,
   "id": "078e6b79",
   "metadata": {},
   "outputs": [
    {
     "data": {
      "text/plain": [
       "array(['setosa', 'versicolor', 'virginica'], dtype='<U10')"
      ]
     },
     "execution_count": 52,
     "metadata": {},
     "output_type": "execute_result"
    }
   ],
   "source": [
    "iris.target_names"
   ]
  },
  {
   "cell_type": "code",
   "execution_count": 53,
   "id": "b003647b",
   "metadata": {},
   "outputs": [],
   "source": [
    "from sklearn.model_selection import train_test_split"
   ]
  },
  {
   "cell_type": "code",
   "execution_count": 54,
   "id": "d093f2e1",
   "metadata": {},
   "outputs": [],
   "source": [
    "X_train,X_test,y_train,y_test=train_test_split(X,y,test_size=0.1,random_state=42)"
   ]
  },
  {
   "cell_type": "code",
   "execution_count": 55,
   "id": "b56526a1",
   "metadata": {},
   "outputs": [
    {
     "data": {
      "text/plain": [
       "(135, 4)"
      ]
     },
     "execution_count": 55,
     "metadata": {},
     "output_type": "execute_result"
    }
   ],
   "source": [
    "X_train.shape"
   ]
  },
  {
   "cell_type": "code",
   "execution_count": 56,
   "id": "de502149",
   "metadata": {},
   "outputs": [
    {
     "data": {
      "text/plain": [
       "(15, 4)"
      ]
     },
     "execution_count": 56,
     "metadata": {},
     "output_type": "execute_result"
    }
   ],
   "source": [
    "X_test.shape"
   ]
  },
  {
   "cell_type": "code",
   "execution_count": 57,
   "id": "1eca5a00",
   "metadata": {},
   "outputs": [
    {
     "data": {
      "text/plain": [
       "(sepal length (cm)    0.694776\n",
       " sepal width (cm)     0.191114\n",
       " petal length (cm)    3.107892\n",
       " petal width (cm)     0.578925\n",
       " dtype: float64,\n",
       " sepal length (cm)    0.638095\n",
       " sepal width (cm)     0.192667\n",
       " petal length (cm)    3.318095\n",
       " petal width (cm)     0.623524\n",
       " dtype: float64)"
      ]
     },
     "execution_count": 57,
     "metadata": {},
     "output_type": "execute_result"
    }
   ],
   "source": [
    "X_train.var(), X_test.var()"
   ]
  },
  {
   "cell_type": "code",
   "execution_count": 58,
   "id": "1c4b25e1",
   "metadata": {},
   "outputs": [],
   "source": [
    "import tensorflow as tf"
   ]
  },
  {
   "cell_type": "code",
   "execution_count": 59,
   "id": "86126eb4",
   "metadata": {},
   "outputs": [],
   "source": [
    "# one-hot-encoding\n",
    "y_train=tf.keras.utils.to_categorical(y_train)\n",
    "y_test=tf.keras.utils.to_categorical(y_test)"
   ]
  },
  {
   "cell_type": "code",
   "execution_count": 60,
   "id": "144a7b64",
   "metadata": {},
   "outputs": [
    {
     "data": {
      "text/plain": [
       "array([[0., 1., 0.],\n",
       "       [0., 0., 1.],\n",
       "       [0., 1., 0.],\n",
       "       [0., 1., 0.],\n",
       "       [0., 0., 1.]], dtype=float32)"
      ]
     },
     "execution_count": 60,
     "metadata": {},
     "output_type": "execute_result"
    }
   ],
   "source": [
    "y_train[:5]"
   ]
  },
  {
   "cell_type": "code",
   "execution_count": 61,
   "id": "842a4671",
   "metadata": {},
   "outputs": [
    {
     "data": {
      "text/plain": [
       "array([[0., 1., 0.],\n",
       "       [1., 0., 0.],\n",
       "       [0., 0., 1.],\n",
       "       [0., 1., 0.],\n",
       "       [0., 1., 0.]], dtype=float32)"
      ]
     },
     "execution_count": 61,
     "metadata": {},
     "output_type": "execute_result"
    }
   ],
   "source": [
    "y_test[:5]"
   ]
  },
  {
   "cell_type": "code",
   "execution_count": 62,
   "id": "1617e50e",
   "metadata": {},
   "outputs": [],
   "source": [
    "# girdi verilerini array yapısına çevir\n",
    "X_train=X_train.values\n",
    "X_test=X_test.values"
   ]
  },
  {
   "cell_type": "code",
   "execution_count": 63,
   "id": "0e80141f",
   "metadata": {
    "scrolled": true
   },
   "outputs": [
    {
     "data": {
      "text/plain": [
       "array([[6.3, 3.3, 4.7, 1.6],\n",
       "       [6.5, 3. , 5.8, 2.2],\n",
       "       [5.6, 2.5, 3.9, 1.1],\n",
       "       [5.7, 2.8, 4.5, 1.3],\n",
       "       [6.4, 2.8, 5.6, 2.2]])"
      ]
     },
     "execution_count": 63,
     "metadata": {},
     "output_type": "execute_result"
    }
   ],
   "source": [
    "X_train[:5]"
   ]
  },
  {
   "cell_type": "code",
   "execution_count": 64,
   "id": "678f6f46",
   "metadata": {},
   "outputs": [
    {
     "data": {
      "text/plain": [
       "array([[6.1, 2.8, 4.7, 1.2],\n",
       "       [5.7, 3.8, 1.7, 0.3],\n",
       "       [7.7, 2.6, 6.9, 2.3],\n",
       "       [6. , 2.9, 4.5, 1.5],\n",
       "       [6.8, 2.8, 4.8, 1.4]])"
      ]
     },
     "execution_count": 64,
     "metadata": {},
     "output_type": "execute_result"
    }
   ],
   "source": [
    "X_test[:5]"
   ]
  },
  {
   "cell_type": "markdown",
   "id": "33ac9a69",
   "metadata": {},
   "source": [
    "### Build Layers & Model"
   ]
  },
  {
   "cell_type": "code",
   "execution_count": 65,
   "id": "b9664f7a",
   "metadata": {},
   "outputs": [],
   "source": [
    "from tensorflow.keras.models import Sequential\n",
    "from tensorflow.keras.layers import Dense\n",
    "from tensorflow.keras import layers"
   ]
  },
  {
   "cell_type": "code",
   "execution_count": 66,
   "id": "82409706",
   "metadata": {},
   "outputs": [],
   "source": [
    "# Sequential nesnesi oluşturma\n",
    "model=Sequential()\n",
    "# Sequential: Layerları lineer olarak bir araya getirir."
   ]
  },
  {
   "cell_type": "code",
   "execution_count": 67,
   "id": "c8d2b681",
   "metadata": {},
   "outputs": [],
   "source": [
    "# Oluşturulan nesneye layer ekleme\n",
    "# 64 nörondan oluşan, aktivasyon fonskiyonu ReLu olan ve girdi sayısı 4 olan bir layer oluşturduk.\n",
    "\n",
    "model.add(Dense(64,activation=\"relu\",input_shape=X_train[0].shape)) # input layer\n",
    "model.add(Dense(128,activation=\"relu\")) # hidden1\n",
    "model.add(Dense(128,activation=\"relu\")) # hidden2\n",
    "model.add(Dense(128,activation=\"relu\")) # hidden3\n",
    "model.add(Dense(64,activation=\"relu\")) # hidden4\n",
    "model.add(Dense(64,activation=\"relu\")) # hidden5\n",
    "model.add(Dense(64,activation=\"relu\")) # hidden6\n",
    "model.add(Dense(3,activation=\"softmax\")) # output layer. softmax çoklu sınıflandırma problemleri için kullanılır.\n",
    "\n",
    "# Dense: Oluşturulacak layerların birbiri ile tamamen bağlantılı olmasını sağlar. \n",
    "# Yani layerdeki bütün nöronlar bir önceki layerdaki bütün nöronlara bağlanır.\n",
    "# softmax: Çoklu sınıflandırma problemleri için kullanılan bir aktivasyon fonskiyonudur."
   ]
  },
  {
   "cell_type": "code",
   "execution_count": 69,
   "id": "a7dba300",
   "metadata": {},
   "outputs": [
    {
     "data": {
      "text/plain": [
       "(4,)"
      ]
     },
     "execution_count": 69,
     "metadata": {},
     "output_type": "execute_result"
    }
   ],
   "source": [
    "X_train[0].shape"
   ]
  },
  {
   "cell_type": "code",
   "execution_count": 68,
   "id": "8f594300",
   "metadata": {},
   "outputs": [
    {
     "name": "stdout",
     "output_type": "stream",
     "text": [
      "Model: \"sequential_1\"\n",
      "_________________________________________________________________\n",
      "Layer (type)                 Output Shape              Param #   \n",
      "=================================================================\n",
      "dense_25 (Dense)             (None, 64)                320       \n",
      "_________________________________________________________________\n",
      "dense_26 (Dense)             (None, 128)               8320      \n",
      "_________________________________________________________________\n",
      "dense_27 (Dense)             (None, 128)               16512     \n",
      "_________________________________________________________________\n",
      "dense_28 (Dense)             (None, 128)               16512     \n",
      "_________________________________________________________________\n",
      "dense_29 (Dense)             (None, 64)                8256      \n",
      "_________________________________________________________________\n",
      "dense_30 (Dense)             (None, 64)                4160      \n",
      "_________________________________________________________________\n",
      "dense_31 (Dense)             (None, 64)                4160      \n",
      "_________________________________________________________________\n",
      "dense_32 (Dense)             (None, 3)                 195       \n",
      "=================================================================\n",
      "Total params: 58,435\n",
      "Trainable params: 58,435\n",
      "Non-trainable params: 0\n",
      "_________________________________________________________________\n"
     ]
    }
   ],
   "source": [
    "model.summary()"
   ]
  },
  {
   "cell_type": "code",
   "execution_count": 34,
   "id": "041835cb",
   "metadata": {},
   "outputs": [],
   "source": [
    "# modelin derlenmesi\n",
    "model.compile(optimizer=\"adam\",loss=\"categorical_crossentropy\",metrics=[\"acc\"])\n",
    "# adam: Bir optimizer'dır. Optimizer öğrenme oranını kontrol eder. Öğrenme boyunca öğrenme oranını ayarlanmasını sağlar.\n",
    "# loss: kayıp fonsksiyonudur. categorical_crossentropy çoklu sınıflandırma için kullanılan bir kayıp fonsksiyonudur."
   ]
  },
  {
   "cell_type": "code",
   "execution_count": 71,
   "id": "656c2e82",
   "metadata": {},
   "outputs": [
    {
     "data": {
      "text/plain": [
       "(135, 3)"
      ]
     },
     "execution_count": 71,
     "metadata": {},
     "output_type": "execute_result"
    }
   ],
   "source": [
    "y_train.shape"
   ]
  },
  {
   "cell_type": "code",
   "execution_count": 35,
   "id": "fa5ea5b4",
   "metadata": {},
   "outputs": [
    {
     "name": "stdout",
     "output_type": "stream",
     "text": [
      "Epoch 1/10\n",
      "4/4 [==============================] - 1s 55ms/step - loss: 1.0991 - acc: 0.3223 - val_loss: 1.1008 - val_acc: 0.1429\n",
      "Epoch 2/10\n",
      "4/4 [==============================] - 0s 7ms/step - loss: 1.0961 - acc: 0.3471 - val_loss: 1.0969 - val_acc: 0.1429\n",
      "Epoch 3/10\n",
      "4/4 [==============================] - 0s 7ms/step - loss: 1.0845 - acc: 0.5537 - val_loss: 1.0791 - val_acc: 0.5000\n",
      "Epoch 4/10\n",
      "4/4 [==============================] - 0s 7ms/step - loss: 1.0516 - acc: 0.6694 - val_loss: 1.0396 - val_acc: 0.5000\n",
      "Epoch 5/10\n",
      "4/4 [==============================] - 0s 9ms/step - loss: 0.9760 - acc: 0.6694 - val_loss: 0.9616 - val_acc: 0.5000\n",
      "Epoch 6/10\n",
      "4/4 [==============================] - 0s 7ms/step - loss: 0.8408 - acc: 0.6694 - val_loss: 0.8437 - val_acc: 0.5000\n",
      "Epoch 7/10\n",
      "4/4 [==============================] - 0s 7ms/step - loss: 0.6629 - acc: 0.6694 - val_loss: 0.7192 - val_acc: 0.5000\n",
      "Epoch 8/10\n",
      "4/4 [==============================] - 0s 7ms/step - loss: 0.5212 - acc: 0.6694 - val_loss: 0.6203 - val_acc: 0.5000\n",
      "Epoch 9/10\n",
      "4/4 [==============================] - 0s 7ms/step - loss: 0.4687 - acc: 0.7025 - val_loss: 0.5863 - val_acc: 0.6429\n",
      "Epoch 10/10\n",
      "4/4 [==============================] - 0s 7ms/step - loss: 0.4647 - acc: 0.6777 - val_loss: 0.5964 - val_acc: 0.5000\n"
     ]
    }
   ],
   "source": [
    "# build model\n",
    "history= model.fit(X_train,y_train,batch_size=32,epochs=10,validation_split=0.1)\n",
    "# modelin eğitim aşamasındaki geçmişini kaydetmek için history'e atadık.\n",
    "\n",
    "# batch_size: Model eğitilirken kaçar örnek alınacağını belirler.\n",
    "# epoch: Modelin kaç defa eğitim verisini göreceğini ifade eder.\n",
    "# validation_split: Modeli eğitirken, modeli değerlendirmek için kullanılabilir. Modelin eğitimini iyileştirmek için kullanılır. \n",
    "# (örnek: parametre olarak 0.4 verirsek eğitim verisinin bu kadarlık kısmı validation için kullanılır.)"
   ]
  },
  {
   "cell_type": "code",
   "execution_count": 36,
   "id": "e5d67185",
   "metadata": {},
   "outputs": [],
   "source": [
    "# val_acc > acc olduğu için çok doğru bir sonuç değildir"
   ]
  },
  {
   "cell_type": "code",
   "execution_count": 37,
   "id": "362ddc28",
   "metadata": {},
   "outputs": [],
   "source": [
    "import matplotlib.pyplot as plt"
   ]
  },
  {
   "cell_type": "code",
   "execution_count": 38,
   "id": "f9ff660c",
   "metadata": {},
   "outputs": [
    {
     "data": {
      "text/plain": [
       "<matplotlib.legend.Legend at 0x21a6f6ddc40>"
      ]
     },
     "execution_count": 38,
     "metadata": {},
     "output_type": "execute_result"
    },
    {
     "data": {
      "image/png": "[encoded data removed]",
      "text/plain": [
       "<Figure size 432x288 with 1 Axes>"
      ]
     },
     "metadata": {
      "needs_background": "light"
     },
     "output_type": "display_data"
    }
   ],
   "source": [
    "plt.plot(history.history[\"acc\"])\n",
    "plt.plot(history.history[\"val_acc\"])\n",
    "plt.xlabel(\"Epochs\")\n",
    "plt.ylabel(\"Acc\")\n",
    "plt.legend([\"Training\",\"Validation\"])"
   ]
  },
  {
   "cell_type": "code",
   "execution_count": 39,
   "id": "eca46696",
   "metadata": {},
   "outputs": [
    {
     "data": {
      "text/plain": [
       "<matplotlib.legend.Legend at 0x21a6f7c13a0>"
      ]
     },
     "execution_count": 39,
     "metadata": {},
     "output_type": "execute_result"
    },
    {
     "data": {
      "image/png": "[encoded data removed]",
      "text/plain": [
       "<Figure size 432x288 with 1 Axes>"
      ]
     },
     "metadata": {
      "needs_background": "light"
     },
     "output_type": "display_data"
    }
   ],
   "source": [
    "plt.plot(history.history[\"loss\"])\n",
    "plt.plot(history.history[\"val_loss\"])\n",
    "plt.xlabel(\"Epochs\")\n",
    "plt.ylabel(\"Acc\")\n",
    "plt.legend([\"Training\",\"Validation\"])"
   ]
  },
  {
   "cell_type": "markdown",
   "id": "302c601e",
   "metadata": {},
   "source": [
    "### Modelin Değerlendirilmesi"
   ]
  },
  {
   "cell_type": "code",
   "execution_count": 40,
   "id": "478c01d9",
   "metadata": {},
   "outputs": [
    {
     "name": "stdout",
     "output_type": "stream",
     "text": [
      "1/1 [==============================] - 0s 11ms/step - loss: 0.4143 - acc: 0.8000\n"
     ]
    },
    {
     "data": {
      "text/plain": [
       "[0.4142880141735077, 0.800000011920929]"
      ]
     },
     "execution_count": 40,
     "metadata": {},
     "output_type": "execute_result"
    }
   ],
   "source": [
    "model.evaluate(X_test,y_test) # test verisindeki performans"
   ]
  },
  {
   "cell_type": "code",
   "execution_count": 41,
   "id": "f53e54ab",
   "metadata": {},
   "outputs": [],
   "source": [
    "# Modeli iyileştirmek veya değiştirmek için layer,nöron ve epoch sayıları gibi nicelikler değişebilir"
   ]
  },
  {
   "cell_type": "code",
   "execution_count": null,
   "id": "276b2205",
   "metadata": {},
   "outputs": [],
   "source": []
  }
 ],
 "metadata": {
  "kernelspec": {
   "display_name": "Python 3",
   "language": "python",
   "name": "python3"
  },
  "language_info": {
   "codemirror_mode": {
    "name": "ipython",
    "version": 3
   },
   "file_extension": ".py",
   "mimetype": "text/x-python",
   "name": "python",
   "nbconvert_exporter": "python",
   "pygments_lexer": "ipython3",
   "version": "3.8.8"
  }
 },
 "nbformat": 4,
 "nbformat_minor": 5
}
