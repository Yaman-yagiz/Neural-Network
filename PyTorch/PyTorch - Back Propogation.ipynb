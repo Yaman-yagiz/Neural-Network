{
 "cells": [
  {
   "cell_type": "code",
   "execution_count": 1,
   "id": "9fe0acca",
   "metadata": {},
   "outputs": [],
   "source": [
    "import torch"
   ]
  },
  {
   "cell_type": "code",
   "execution_count": 2,
   "id": "ee4614b4",
   "metadata": {},
   "outputs": [],
   "source": [
    "# back propogation detaylı anlatımı\n",
    "# https://devhunteryz.wordpress.com/2018/06/20/geri-yayilimbackpropagation/"
   ]
  },
  {
   "cell_type": "code",
   "execution_count": 22,
   "id": "a80d3ab8",
   "metadata": {},
   "outputs": [
    {
     "data": {
      "text/plain": [
       "tensor(4., requires_grad=True)"
      ]
     },
     "execution_count": 22,
     "metadata": {},
     "output_type": "execute_result"
    }
   ],
   "source": [
    "x=torch.tensor(4.0,requires_grad=True) # requires_grad=True ile geri yayılım yapabiliriz.\n",
    "x"
   ]
  },
  {
   "cell_type": "code",
   "execution_count": 23,
   "id": "d8605ce8",
   "metadata": {},
   "outputs": [
    {
     "data": {
      "text/plain": [
       "tensor(16., grad_fn=<PowBackward0>)"
      ]
     },
     "execution_count": 23,
     "metadata": {},
     "output_type": "execute_result"
    }
   ],
   "source": [
    "y=x**2\n",
    "y"
   ]
  },
  {
   "cell_type": "code",
   "execution_count": 24,
   "id": "6f251cbd",
   "metadata": {},
   "outputs": [],
   "source": [
    "# Back Propogation y= 2*x\n",
    "# bu işlem aslında bir türev işlemidir ve geri yayılım yapıldığında bağımsız değişken en başta verilen fonksiyonun\n",
    "# türevine göre tekrar hesaplanır. (ilk fonksiyon: y=x**2 , geri yayılımla beraber: y=2*x)\n",
    "y.backward()"
   ]
  },
  {
   "cell_type": "code",
   "execution_count": 25,
   "id": "60a14713",
   "metadata": {},
   "outputs": [
    {
     "name": "stdout",
     "output_type": "stream",
     "text": [
      "tensor(8.)\n"
     ]
    }
   ],
   "source": [
    "print(x.grad)# x=tensor(4., requires_grad=True) idi. y.backward() yani geri yayılımdan sonra fonksiyon y=2*x olunca x de 8 oldu."
   ]
  },
  {
   "cell_type": "code",
   "execution_count": 26,
   "id": "1240d865",
   "metadata": {},
   "outputs": [
    {
     "data": {
      "text/plain": [
       "tensor([[2., 3., 1.],\n",
       "        [3., 4., 7.],\n",
       "        [5., 2., 3.]], requires_grad=True)"
      ]
     },
     "execution_count": 26,
     "metadata": {},
     "output_type": "execute_result"
    }
   ],
   "source": [
    "lst=[[2.,3.,1.],[3.,4.,7.],[5.,2.,3.]]\n",
    "torch_input=torch.tensor(lst,requires_grad=True)\n",
    "torch_input"
   ]
  },
  {
   "cell_type": "code",
   "execution_count": 27,
   "id": "4217bc10",
   "metadata": {},
   "outputs": [],
   "source": [
    "# torch_input için yeni fonskiyonumuz y=x**3+x**2 olsun\n",
    "# geri yayılımla beraber y=3*x**2+2*x olur.\n",
    "y=torch_input**3+torch_input**2"
   ]
  },
  {
   "cell_type": "code",
   "execution_count": 28,
   "id": "47b8c762",
   "metadata": {},
   "outputs": [
    {
     "data": {
      "text/plain": [
       "tensor([[ 12.,  36.,   2.],\n",
       "        [ 36.,  80., 392.],\n",
       "        [150.,  12.,  36.]], grad_fn=<AddBackward0>)"
      ]
     },
     "execution_count": 28,
     "metadata": {},
     "output_type": "execute_result"
    }
   ],
   "source": [
    "y"
   ]
  },
  {
   "cell_type": "code",
   "execution_count": 29,
   "id": "7ca6c8b4",
   "metadata": {},
   "outputs": [
    {
     "data": {
      "text/plain": [
       "tensor(756., grad_fn=<SumBackward0>)"
      ]
     },
     "execution_count": 29,
     "metadata": {},
     "output_type": "execute_result"
    }
   ],
   "source": [
    "z=y.sum()\n",
    "z"
   ]
  },
  {
   "cell_type": "code",
   "execution_count": 30,
   "id": "62425724",
   "metadata": {},
   "outputs": [],
   "source": [
    "z.backward()"
   ]
  },
  {
   "cell_type": "code",
   "execution_count": 31,
   "id": "1a727cf1",
   "metadata": {},
   "outputs": [
    {
     "data": {
      "text/plain": [
       "tensor([[ 16.,  33.,   5.],\n",
       "        [ 33.,  56., 161.],\n",
       "        [ 85.,  16.,  33.]])"
      ]
     },
     "execution_count": 31,
     "metadata": {},
     "output_type": "execute_result"
    }
   ],
   "source": [
    "torch_input.grad #burada oluşan sayılar y=3*x**2+2*x e göre hesaplanmıştır."
   ]
  }
 ],
 "metadata": {
  "kernelspec": {
   "display_name": "Python 3",
   "language": "python",
   "name": "python3"
  },
  "language_info": {
   "codemirror_mode": {
    "name": "ipython",
    "version": 3
   },
   "file_extension": ".py",
   "mimetype": "text/x-python",
   "name": "python",
   "nbconvert_exporter": "python",
   "pygments_lexer": "ipython3",
   "version": "3.8.8"
  }
 },
 "nbformat": 4,
 "nbformat_minor": 5
}
