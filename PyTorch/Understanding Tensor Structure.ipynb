{
 "cells": [
  {
   "cell_type": "code",
   "execution_count": 3,
   "id": "dbb60c96",
   "metadata": {},
   "outputs": [],
   "source": [
    "import torch\n",
    "import numpy as np"
   ]
  },
  {
   "cell_type": "code",
   "execution_count": 5,
   "id": "7e2d7cf5",
   "metadata": {},
   "outputs": [
    {
     "data": {
      "text/plain": [
       "('1.9.0', '1.20.1')"
      ]
     },
     "execution_count": 5,
     "metadata": {},
     "output_type": "execute_result"
    }
   ],
   "source": [
    "torch.__version__,np.__version__"
   ]
  },
  {
   "cell_type": "markdown",
   "id": "2dc4f371",
   "metadata": {},
   "source": [
    "###  Numpy array v List \n",
    "Ortak bir başlangıç sorusu, buradaki gerçek farkın ne olduğudur. Cevap performanstır. Numpy veri yapıları şu durumlarda daha iyi performans gösterir:\n",
    "\n",
    "- Boyut - Numpy veri yapıları daha az yer kaplar\n",
    "- Performans - hıza ihtiyaçları var ve listelerden daha hızlılar\n",
    "- İşlevsellik - SciPy ve NumPy, yerleşik doğrusal cebir işlemleri gibi optimize edilmiş işlevlere sahiptir.\n",
    " "
   ]
  },
  {
   "cell_type": "code",
   "execution_count": 12,
   "id": "96f32573",
   "metadata": {},
   "outputs": [],
   "source": [
    "lst=[3,4,5,6]\n",
    "arr=np.array(lst)"
   ]
  },
  {
   "cell_type": "code",
   "execution_count": 13,
   "id": "7d38ba5a",
   "metadata": {},
   "outputs": [
    {
     "data": {
      "text/plain": [
       "array([3, 4, 5, 6])"
      ]
     },
     "execution_count": 13,
     "metadata": {},
     "output_type": "execute_result"
    }
   ],
   "source": [
    "arr"
   ]
  },
  {
   "cell_type": "code",
   "execution_count": 14,
   "id": "85fd5b98",
   "metadata": {},
   "outputs": [
    {
     "data": {
      "text/plain": [
       "dtype('int32')"
      ]
     },
     "execution_count": 14,
     "metadata": {},
     "output_type": "execute_result"
    }
   ],
   "source": [
    "arr.dtype"
   ]
  },
  {
   "cell_type": "markdown",
   "id": "3fe59b53",
   "metadata": {},
   "source": [
    "### Convert Numpy To Pytorch Tensors"
   ]
  },
  {
   "cell_type": "markdown",
   "id": "34add524",
   "metadata": {},
   "source": [
    "\"tensors=torch.from_numpy(arr)\"\n",
    "ifadesi ile <b>hem dizi hem de oluşturulan tensor aynı hafızayı paylaşır</b>. Eğer birisi üzerinde bir değişiklik yaparsak her ikiside bundan etkilenir. <b>Bundan kurtulmanın yolu \"tensors = torch.tensor(arr)\" ifadesidir.</b>"
   ]
  },
  {
   "cell_type": "code",
   "execution_count": 15,
   "id": "cd882f71",
   "metadata": {},
   "outputs": [
    {
     "data": {
      "text/plain": [
       "tensor([3, 4, 5, 6], dtype=torch.int32)"
      ]
     },
     "execution_count": 15,
     "metadata": {},
     "output_type": "execute_result"
    }
   ],
   "source": [
    "# Paylaşımlı bellek\n",
    "tensors=torch.from_numpy(arr)\n",
    "tensors"
   ]
  },
  {
   "cell_type": "code",
   "execution_count": 16,
   "id": "159bf71e",
   "metadata": {},
   "outputs": [],
   "source": [
    "tensors[3]=100"
   ]
  },
  {
   "cell_type": "code",
   "execution_count": 17,
   "id": "1e3b0f11",
   "metadata": {},
   "outputs": [
    {
     "data": {
      "text/plain": [
       "tensor([  3,   4,   5, 100], dtype=torch.int32)"
      ]
     },
     "execution_count": 17,
     "metadata": {},
     "output_type": "execute_result"
    }
   ],
   "source": [
    "tensors"
   ]
  },
  {
   "cell_type": "code",
   "execution_count": 18,
   "id": "dd2b669d",
   "metadata": {},
   "outputs": [
    {
     "data": {
      "text/plain": [
       "array([  3,   4,   5, 100])"
      ]
     },
     "execution_count": 18,
     "metadata": {},
     "output_type": "execute_result"
    }
   ],
   "source": [
    "arr"
   ]
  },
  {
   "cell_type": "code",
   "execution_count": 19,
   "id": "ad708239",
   "metadata": {},
   "outputs": [
    {
     "data": {
      "text/plain": [
       "tensor([  3,   4,   5, 100], dtype=torch.int32)"
      ]
     },
     "execution_count": 19,
     "metadata": {},
     "output_type": "execute_result"
    }
   ],
   "source": [
    "# Paylaşımsız bellek (Kopya oluşturma)\n",
    "tensor_arr=torch.tensor(arr)\n",
    "tensor_arr"
   ]
  },
  {
   "cell_type": "code",
   "execution_count": 21,
   "id": "425c4450",
   "metadata": {},
   "outputs": [
    {
     "data": {
      "text/plain": [
       "tensor([3, 4, 5, 6], dtype=torch.int32)"
      ]
     },
     "execution_count": 21,
     "metadata": {},
     "output_type": "execute_result"
    }
   ],
   "source": [
    "tensor_arr[3]=6\n",
    "tensor_arr"
   ]
  },
  {
   "cell_type": "code",
   "execution_count": 22,
   "id": "5f27992f",
   "metadata": {},
   "outputs": [
    {
     "data": {
      "text/plain": [
       "array([  3,   4,   5, 100])"
      ]
     },
     "execution_count": 22,
     "metadata": {},
     "output_type": "execute_result"
    }
   ],
   "source": [
    "arr"
   ]
  },
  {
   "cell_type": "code",
   "execution_count": 24,
   "id": "2cc58665",
   "metadata": {},
   "outputs": [
    {
     "data": {
      "text/plain": [
       "tensor([[0., 0., 0.],\n",
       "        [0., 0., 0.]], dtype=torch.float64)"
      ]
     },
     "execution_count": 24,
     "metadata": {},
     "output_type": "execute_result"
    }
   ],
   "source": [
    "# create zeros and ones tensors\n",
    "torch.zeros(2,3,dtype=torch.float64) # 2 boyutlu 2*3 şeklinde 0 lar matrisi oluşturur."
   ]
  },
  {
   "cell_type": "code",
   "execution_count": 25,
   "id": "be057284",
   "metadata": {},
   "outputs": [
    {
     "data": {
      "text/plain": [
       "tensor([[1., 1., 1.],\n",
       "        [1., 1., 1.]], dtype=torch.float64)"
      ]
     },
     "execution_count": 25,
     "metadata": {},
     "output_type": "execute_result"
    }
   ],
   "source": [
    "torch.ones(2,3,dtype=torch.float64) # 2 boyutlu 2*3 şeklinde 1 ler matrisi oluşturur."
   ]
  },
  {
   "cell_type": "code",
   "execution_count": 36,
   "id": "a79d3770",
   "metadata": {},
   "outputs": [
    {
     "name": "stdout",
     "output_type": "stream",
     "text": [
      "tensor([[ 0,  1,  2],\n",
      "        [ 3,  4,  5],\n",
      "        [ 6,  7,  8],\n",
      "        [ 9, 10, 11],\n",
      "        [12, 13, 14]], dtype=torch.int32)\n",
      "tensor([[ 0],\n",
      "        [ 3],\n",
      "        [ 6],\n",
      "        [ 9],\n",
      "        [12]], dtype=torch.int32)\n",
      "tensor([[ 0,  1],\n",
      "        [ 3,  4],\n",
      "        [ 6,  7],\n",
      "        [ 9, 10],\n",
      "        [12, 13]], dtype=torch.int32)\n"
     ]
    }
   ],
   "source": [
    "a=torch.tensor(np.arange(0,15).reshape(5,3)) # 0-15 arasında sayıları içeren 5*3 şeklinde matris oluşturur.\n",
    "print(a)\n",
    "print(a[:,0:1])\n",
    "print(a[:,0:2])"
   ]
  },
  {
   "cell_type": "markdown",
   "id": "6c6e4df8",
   "metadata": {},
   "source": [
    "### Arithmetic İşlemler"
   ]
  },
  {
   "cell_type": "code",
   "execution_count": 37,
   "id": "0d6d9ebb",
   "metadata": {},
   "outputs": [
    {
     "name": "stdout",
     "output_type": "stream",
     "text": [
      "tensor([ 7.,  9., 11.])\n"
     ]
    }
   ],
   "source": [
    "a=torch.tensor([3,4,5],dtype=torch.float)\n",
    "b=torch.tensor([4,5,6],dtype=torch.float)\n",
    "print(a+b)"
   ]
  },
  {
   "cell_type": "code",
   "execution_count": 38,
   "id": "352da1f2",
   "metadata": {},
   "outputs": [
    {
     "data": {
      "text/plain": [
       "tensor([ 7.,  9., 11.])"
      ]
     },
     "execution_count": 38,
     "metadata": {},
     "output_type": "execute_result"
    }
   ],
   "source": [
    "torch.add(a,b) # toplama"
   ]
  },
  {
   "cell_type": "code",
   "execution_count": 39,
   "id": "63f530cb",
   "metadata": {},
   "outputs": [
    {
     "data": {
      "text/plain": [
       "tensor([0., 0., 0.])"
      ]
     },
     "execution_count": 39,
     "metadata": {},
     "output_type": "execute_result"
    }
   ],
   "source": [
    "c= torch.zeros(3)\n",
    "c"
   ]
  },
  {
   "cell_type": "code",
   "execution_count": 40,
   "id": "c6cebf64",
   "metadata": {},
   "outputs": [
    {
     "data": {
      "text/plain": [
       "tensor([ 7.,  9., 11.])"
      ]
     },
     "execution_count": 40,
     "metadata": {},
     "output_type": "execute_result"
    }
   ],
   "source": [
    "torch.add(a,b,out=c) # a+b=c\n",
    "c"
   ]
  },
  {
   "cell_type": "code",
   "execution_count": 42,
   "id": "beafa3fb",
   "metadata": {},
   "outputs": [
    {
     "data": {
      "text/plain": [
       "tensor(27.)"
      ]
     },
     "execution_count": 42,
     "metadata": {},
     "output_type": "execute_result"
    }
   ],
   "source": [
    "torch.add(a,b).sum() # 7+9+11"
   ]
  },
  {
   "cell_type": "markdown",
   "id": "34f5404b",
   "metadata": {},
   "source": [
    "### Matris Çarpımları"
   ]
  },
  {
   "cell_type": "code",
   "execution_count": 43,
   "id": "7cc2b009",
   "metadata": {},
   "outputs": [],
   "source": [
    "x= torch.tensor([3,4,5], dtype=torch.float)\n",
    "y = torch.tensor([4,5,6], dtype=torch.float)"
   ]
  },
  {
   "cell_type": "code",
   "execution_count": 44,
   "id": "17048e84",
   "metadata": {},
   "outputs": [
    {
     "data": {
      "text/plain": [
       "tensor([12., 20., 30.])"
      ]
     },
     "execution_count": 44,
     "metadata": {},
     "output_type": "execute_result"
    }
   ],
   "source": [
    "x.mul(y) # x*y"
   ]
  },
  {
   "cell_type": "code",
   "execution_count": 45,
   "id": "e2d00e9f",
   "metadata": {},
   "outputs": [
    {
     "data": {
      "text/plain": [
       "tensor(62.)"
      ]
     },
     "execution_count": 45,
     "metadata": {},
     "output_type": "execute_result"
    }
   ],
   "source": [
    "x.dot(y) # (3*4)+(4*5)+(5*6) = 62"
   ]
  },
  {
   "cell_type": "code",
   "execution_count": 46,
   "id": "f10ac177",
   "metadata": {},
   "outputs": [],
   "source": [
    "# Matrix Multiplication"
   ]
  },
  {
   "cell_type": "code",
   "execution_count": 47,
   "id": "5a9f42fc",
   "metadata": {},
   "outputs": [],
   "source": [
    "x = torch.tensor([[1,4,2],[1,5,5]], dtype=torch.float)\n",
    "y = torch.tensor([[5,7],[8,6],[9,11]], dtype=torch.float)"
   ]
  },
  {
   "cell_type": "code",
   "execution_count": 48,
   "id": "13484e22",
   "metadata": {},
   "outputs": [
    {
     "data": {
      "text/plain": [
       "tensor([[55., 53.],\n",
       "        [90., 92.]])"
      ]
     },
     "execution_count": 48,
     "metadata": {},
     "output_type": "execute_result"
    }
   ],
   "source": [
    "# 1.Metod\n",
    "torch.matmul(x,y)"
   ]
  },
  {
   "cell_type": "code",
   "execution_count": 50,
   "id": "20796b37",
   "metadata": {},
   "outputs": [
    {
     "data": {
      "text/plain": [
       "tensor([[55., 53.],\n",
       "        [90., 92.]])"
      ]
     },
     "execution_count": 50,
     "metadata": {},
     "output_type": "execute_result"
    }
   ],
   "source": [
    "# 2.Metod\n",
    "torch.mm(x,y)"
   ]
  },
  {
   "cell_type": "code",
   "execution_count": 52,
   "id": "9d0acd0b",
   "metadata": {},
   "outputs": [
    {
     "data": {
      "text/plain": [
       "tensor([[55., 53.],\n",
       "        [90., 92.]])"
      ]
     },
     "execution_count": 52,
     "metadata": {},
     "output_type": "execute_result"
    }
   ],
   "source": [
    "# 3.Metod\n",
    "x@y"
   ]
  },
  {
   "cell_type": "code",
   "execution_count": null,
   "id": "d288e507",
   "metadata": {},
   "outputs": [],
   "source": []
  }
 ],
 "metadata": {
  "kernelspec": {
   "display_name": "Python 3",
   "language": "python",
   "name": "python3"
  },
  "language_info": {
   "codemirror_mode": {
    "name": "ipython",
    "version": 3
   },
   "file_extension": ".py",
   "mimetype": "text/x-python",
   "name": "python",
   "nbconvert_exporter": "python",
   "pygments_lexer": "ipython3",
   "version": "3.8.8"
  }
 },
 "nbformat": 4,
 "nbformat_minor": 5
}
